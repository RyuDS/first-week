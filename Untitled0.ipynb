{
  "nbformat": 4,
  "nbformat_minor": 0,
  "metadata": {
    "colab": {
      "name": "Untitled0.ipynb",
      "provenance": [],
      "authorship_tag": "ABX9TyMQfIz1ssCcdl67Jt8+/c82",
      "include_colab_link": true
    },
    "kernelspec": {
      "name": "python3",
      "display_name": "Python 3"
    }
  },
  "cells": [
    {
      "cell_type": "markdown",
      "metadata": {
        "id": "view-in-github",
        "colab_type": "text"
      },
      "source": [
        "<a href=\"https://colab.research.google.com/github/RyuDS/first-week/blob/master/Untitled0.ipynb\" target=\"_parent\"><img src=\"https://colab.research.google.com/assets/colab-badge.svg\" alt=\"Open In Colab\"/></a>"
      ]
    },
    {
      "cell_type": "code",
      "metadata": {
        "id": "viURDE87rGXr",
        "colab_type": "code",
        "colab": {}
      },
      "source": [
        ""
      ],
      "execution_count": 0,
      "outputs": []
    },
    {
      "cell_type": "markdown",
      "metadata": {
        "id": "NxJ5pJO7rHTr",
        "colab_type": "text"
      },
      "source": [
        "언어 \n",
        "1.   Google Easy Papago\n",
        "2.   인공지능 탑재 언택트 언어치료 어플\n",
        "3.   GenueTalk Go!2\n",
        "4.   엑소브레인\n",
        "\n",
        "음성\n",
        "1.   로봇청소기 LG R9 보이스\n",
        "2.   포켓토크\n",
        "3.   타입캐스트\n",
        "4.   Btv AI 2 셋톱박스\n",
        "\n",
        "이미지\n",
        "1.   Resize 2X\n",
        "2.   X-Qrator\n",
        "3.   IMX500\n",
        "4.   CheXNeXt\n",
        "\n",
        "자율주행\n",
        "1.   HydraNet\n",
        "2.   일라이\n",
        "3.   테슬라 무인 자율주행차\n",
        "4.   goX project\n",
        "\n",
        "\n",
        "\n",
        "\n",
        "\n",
        "\n"
      ]
    }
  ]
}